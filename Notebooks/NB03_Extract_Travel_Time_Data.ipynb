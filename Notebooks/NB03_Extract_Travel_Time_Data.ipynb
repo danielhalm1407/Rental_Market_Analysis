{
 "cells": [
  {
   "cell_type": "markdown",
   "id": "b74a1386",
   "metadata": {},
   "source": [
    "# Extract the Travel Time for the Locations of Different Properties"
   ]
  },
  {
   "cell_type": "markdown",
   "id": "4ff339c8",
   "metadata": {},
   "source": [
    "## Import Packages"
   ]
  },
  {
   "cell_type": "code",
   "execution_count": 19,
   "id": "b5b1db83",
   "metadata": {},
   "outputs": [],
   "source": [
    "# Web - Scraping and API Requests\n",
    "import requests\n",
    "from httpx import AsyncClient, Response\n",
    "from parsel import Selector\n",
    "import parsel\n",
    "import jmespath\n",
    "import asyncio\n",
    "\n",
    "# Data Manipulation and Analysis\n",
    "import pandas as pd\n",
    "from pprint import pprint \n",
    "import json\n",
    "from typing import List\n",
    "from typing import TypedDict\n",
    "\n",
    "# Database Connection\n",
    "from sqlalchemy import create_engine\n",
    "\n",
    "# File and System Operations\n",
    "import os\n",
    "import sys"
   ]
  },
  {
   "cell_type": "code",
   "execution_count": 20,
   "id": "bef0a6d4",
   "metadata": {},
   "outputs": [],
   "source": [
    "pd.set_option('display.max_columns', None) # Display all columns in any given DataFrame"
   ]
  },
  {
   "cell_type": "markdown",
   "id": "e66976f7",
   "metadata": {},
   "source": [
    "## Other Setup"
   ]
  },
  {
   "cell_type": "markdown",
   "id": "4148867d",
   "metadata": {},
   "source": [
    "### Finding the correctd file directory for the credentials json with the api key"
   ]
  },
  {
   "cell_type": "code",
   "execution_count": 21,
   "id": "9f8d5143",
   "metadata": {},
   "outputs": [],
   "source": [
    "current_dir = os.path.dirname(os.path.abspath(\"NB03_Extract_Travel_Time_Data.ipynb\"))\n",
    "sys.path.insert(0,os.path.join(current_dir, '..'))\n",
    "\n",
    "credentials_file_path = os.path.join(current_dir, '..', \"credentials.json\")\n",
    "\n",
    "# open the file and load the data into a variable\n",
    "with open(credentials_file_path, \"r\") as f:\n",
    "    credentials = json.load(f)"
   ]
  },
  {
   "cell_type": "code",
   "execution_count": 22,
   "id": "c620aa30",
   "metadata": {},
   "outputs": [
    {
     "name": "stdout",
     "output_type": "stream",
     "text": [
      "{'api_key': '716417c04acf3944937af85d78775ea0', 'app_id': '27beab81'}\n"
     ]
    }
   ],
   "source": [
    "pprint(credentials)"
   ]
  },
  {
   "cell_type": "code",
   "execution_count": 44,
   "id": "f803e3b8",
   "metadata": {},
   "outputs": [
    {
     "name": "stdout",
     "output_type": "stream",
     "text": [
      "200\n",
      "{'results': [{'locations': [{'id': 'Destination 1',\n",
      "                             'properties': {'distance': 0, 'travel_time': 908}},\n",
      "                            {'id': 'Destination 2',\n",
      "                             'properties': {'distance': 0,\n",
      "                                            'travel_time': 2199}},\n",
      "                            {'id': 'Destination 3',\n",
      "                             'properties': {'distance': 0,\n",
      "                                            'travel_time': 857}}],\n",
      "              'search_id': 'Example Search',\n",
      "              'unreachable': []}]}\n"
     ]
    }
   ],
   "source": [
    "# Input the credentials into the header\n",
    "headers = {\n",
    "    \"Content-Type\": \"application/json\",\n",
    "    \"X-Application-Id\": credentials[\"app_id\"],\n",
    "    \"X-Api-Key\": credentials[\"api_key\"]\n",
    "}\n",
    "\n",
    "# The payload from the curl request\n",
    "payload = {\n",
    "    \"arrival_searches\": {\n",
    "        \"one_to_many\": [\n",
    "            {\n",
    "                \"id\": \"Example Search\",\n",
    "                \"departure_location_id\": \"Origin\",\n",
    "                \"arrival_location_ids\": [\n",
    "                    \"Destination 1\", \"Destination 2\", \"Destination 3\"\n",
    "                ],\n",
    "                \"transportation\": {\n",
    "                    \"type\": \"public_transport\"\n",
    "                },\n",
    "                \"travel_time\": 10800,\n",
    "                \"arrival_time_period\": \"weekday_morning\",\n",
    "                \"properties\": [\"travel_time\", \"distance\"]\n",
    "            }\n",
    "        ]\n",
    "    },\n",
    "    \"locations\": [\n",
    "        {\n",
    "            \"id\": \"Origin\", # make this the co-ordinates of bank station\n",
    "            \"coords\": {\n",
    "                \"lat\": 51.513,\n",
    "                \"lng\": -0.088\n",
    "            }\n",
    "        },\n",
    "        {\n",
    "            \"id\": \"Destination 1\", # make this oxford circus station\n",
    "            \"coords\": {\n",
    "                \"lat\": 51.5152,\n",
    "                \"lng\": -0.1419\n",
    "            }\n",
    "        },\n",
    "        {\n",
    "            \"id\": \"Destination 2\", # make this some property in walthamstowe\n",
    "            \"coords\": {\n",
    "                \"lat\": 51.576702,\n",
    "                \"lng\": -0.02847\n",
    "            }\n",
    "        },\n",
    "        {\n",
    "            \"id\": \"Destination 3\", # make this a property in nine elms\n",
    "            \"coords\": {\n",
    "                \"lat\": 51.5163,\n",
    "                \"lng\": -0.1300\t\n",
    "            }\n",
    "        }\n",
    "    ]\n",
    "}\n",
    "\n",
    "# Make the request\n",
    "response = requests.post(\n",
    "    \"https://api.traveltimeapp.com/v4/time-filter/fast\",\n",
    "    headers=headers,\n",
    "    data=json.dumps(payload)\n",
    ")\n",
    "\n",
    "# Check the response\n",
    "print(response.status_code)\n",
    "pprint(response.json())  # or response.text if not JSON"
   ]
  },
  {
   "cell_type": "code",
   "execution_count": 41,
   "id": "725b9240",
   "metadata": {},
   "outputs": [
    {
     "name": "stdout",
     "output_type": "stream",
     "text": [
      "200\n",
      "{'results': [{'locations': [{'id': 'other-location-3',\n",
      "                             'properties': {'travel_time': 698}},\n",
      "                            {'id': 'other-location-2',\n",
      "                             'properties': {'travel_time': 1114}},\n",
      "                            {'id': 'other-location-1',\n",
      "                             'properties': {'travel_time': 1043}},\n",
      "                            {'id': 'other-location-0',\n",
      "                             'properties': {'travel_time': 563}},\n",
      "                            {'id': 'other-location-4',\n",
      "                             'properties': {'travel_time': 978}}],\n",
      "              'search_id': 'arrive-at one-to-many search example',\n",
      "              'unreachable': []}]}\n"
     ]
    }
   ],
   "source": [
    "headers = {\n",
    "    \"Content-Type\": \"application/json\",\n",
    "    \"X-Application-Id\": credentials[\"app_id\"],\n",
    "    \"X-Api-Key\": credentials[\"api_key\"]\n",
    "}\n",
    "\n",
    "payload = {\n",
    "    \"locations\": [\n",
    "        {\n",
    "            \"id\": \"starting-location\",\n",
    "            \"coords\": {\"lng\": -0.0866253, \"lat\": 51.5140401}\n",
    "        },\n",
    "        {\n",
    "            \"id\": \"other-location-0\",\n",
    "            \"coords\": {\"lat\": 51.51126100696778, \"lng\": -0.07532395813711054}\n",
    "        },\n",
    "        {\n",
    "            \"id\": \"other-location-1\",\n",
    "            \"coords\": {\"lat\": 51.52642194622867, \"lng\": -0.09520781476778037}\n",
    "        },\n",
    "        {\n",
    "            \"id\": \"other-location-2\",\n",
    "            \"coords\": {\"lat\": 51.49938271146974, \"lng\": -0.07804923576430915}\n",
    "        },\n",
    "        {\n",
    "            \"id\": \"other-location-3\",\n",
    "            \"coords\": {\"lat\": 51.50884919364359, \"lng\": -0.07209628542344454}\n",
    "        },\n",
    "        {\n",
    "            \"id\": \"other-location-4\",\n",
    "            \"coords\": {\"lat\": 51.5153, \"lng\": -0.142}\n",
    "        }\n",
    "    ],\n",
    "    \"arrival_searches\": {\n",
    "        \"one_to_many\": [\n",
    "            {\n",
    "                \"id\": \"arrive-at one-to-many search example\",\n",
    "                \"arrival_location_ids\": [\n",
    "                    \"other-location-0\",\n",
    "                    \"other-location-1\",\n",
    "                    \"other-location-2\",\n",
    "                    \"other-location-3\",\n",
    "                    \"other-location-4\"\n",
    "                ],\n",
    "                \"departure_location_id\": \"starting-location\",\n",
    "                \"arrival_time_period\": \"weekday_morning\",\n",
    "                \"properties\": [\"travel_time\"],\n",
    "                \"transportation\": {\"type\": \"public_transport\"},\n",
    "                \"travel_time\": 1800\n",
    "            }\n",
    "        ],\n",
    "        \"many_to_one\": []\n",
    "    }\n",
    "}\n",
    "\n",
    "response = requests.post(\n",
    "    \"https://api.traveltimeapp.com/v4/time-filter/fast\",\n",
    "    headers=headers,\n",
    "    json=payload\n",
    ")\n",
    "\n",
    "print(response.status_code)\n",
    "pprint(response.json())"
   ]
  }
 ],
 "metadata": {
  "kernelspec": {
   "display_name": "venv-rental",
   "language": "python",
   "name": "python3"
  },
  "language_info": {
   "codemirror_mode": {
    "name": "ipython",
    "version": 3
   },
   "file_extension": ".py",
   "mimetype": "text/x-python",
   "name": "python",
   "nbconvert_exporter": "python",
   "pygments_lexer": "ipython3",
   "version": "3.11.13"
  }
 },
 "nbformat": 4,
 "nbformat_minor": 5
}
