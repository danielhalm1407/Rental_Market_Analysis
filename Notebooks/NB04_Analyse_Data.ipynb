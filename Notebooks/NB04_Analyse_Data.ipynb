{
 "cells": [
  {
   "cell_type": "markdown",
   "id": "85c19340",
   "metadata": {},
   "source": [
    "## Import Packages"
   ]
  },
  {
   "cell_type": "code",
   "execution_count": 89,
   "id": "dd2bc7b5",
   "metadata": {},
   "outputs": [],
   "source": [
    "# Web - Scraping and API Requests\n",
    "import requests\n",
    "from httpx import AsyncClient, Response\n",
    "from parsel import Selector\n",
    "import parsel\n",
    "import jmespath\n",
    "import asyncio\n",
    "\n",
    "# Data Manipulation and Analysis\n",
    "import pandas as pd\n",
    "from pprint import pprint \n",
    "import json\n",
    "from typing import List\n",
    "from typing import TypedDict\n",
    "\n",
    "# Data Visualisation\n",
    "import seaborn as sns\n",
    "import matplotlib.pyplot as plt\n",
    "\n",
    "# Regressions\n",
    "from sklearn.linear_model import LinearRegression\n",
    "\n",
    "\n",
    "# Database Connection\n",
    "from sqlalchemy import create_engine\n",
    "from sqlalchemy import inspect, text\n",
    "\n",
    "# File and System Operations\n",
    "import os\n",
    "import sys"
   ]
  },
  {
   "cell_type": "markdown",
   "id": "1a0e5244",
   "metadata": {},
   "source": [
    "## Other Setup"
   ]
  },
  {
   "cell_type": "code",
   "execution_count": 90,
   "id": "09191ef3",
   "metadata": {},
   "outputs": [
    {
     "name": "stdout",
     "output_type": "stream",
     "text": [
      "The autoreload extension is already loaded. To reload it, use:\n",
      "  %reload_ext autoreload\n"
     ]
    }
   ],
   "source": [
    "# This allows one to reload the custom package without having to install it again\n",
    "%load_ext autoreload "
   ]
  },
  {
   "cell_type": "code",
   "execution_count": 91,
   "id": "82bb23e9",
   "metadata": {},
   "outputs": [],
   "source": [
    "# this allows one to reload the custom package without having to install it again\n",
    "%autoreload 1\n",
    "\n",
    "sys.path.insert(0,'../src/')\n",
    "\n",
    "# Import the custom package and sub-packages\n",
    "%aimport rental_utils\n",
    "%aimport rental_utils.functions\n",
    "%aimport rental_utils.sql_queries"
   ]
  },
  {
   "cell_type": "code",
   "execution_count": 92,
   "id": "0763123d",
   "metadata": {},
   "outputs": [],
   "source": [
    "pd.set_option('display.max_columns', None) # Display all columns in any given DataFrame"
   ]
  },
  {
   "cell_type": "markdown",
   "id": "333c95cf",
   "metadata": {},
   "source": [
    "### Import Custom Packages"
   ]
  },
  {
   "cell_type": "code",
   "execution_count": 93,
   "id": "3826b175",
   "metadata": {},
   "outputs": [],
   "source": [
    "from rental_utils import sql_queries as sqlq\n",
    "from rental_utils import functions as rent"
   ]
  },
  {
   "cell_type": "markdown",
   "id": "84df61d2",
   "metadata": {},
   "source": [
    "## Analyse the Data"
   ]
  },
  {
   "cell_type": "markdown",
   "id": "290515ce",
   "metadata": {},
   "source": [
    "### Get the Data from the Database"
   ]
  },
  {
   "cell_type": "code",
   "execution_count": 94,
   "id": "c8565da8",
   "metadata": {},
   "outputs": [],
   "source": [
    "engine = sqlq.get_sql_engine(\"../data/properties.db\")"
   ]
  },
  {
   "cell_type": "code",
   "execution_count": 95,
   "id": "828db7a1",
   "metadata": {},
   "outputs": [],
   "source": [
    "with engine.connect() as connection:\n",
    "    properties_data = pd.read_sql(text(sqlq.GET_PROPERTIES_DATA_SQL_QUERY), connection)"
   ]
  },
  {
   "cell_type": "markdown",
   "id": "66dde86c",
   "metadata": {},
   "source": [
    "#### Filter out Only Monthly Contracts"
   ]
  },
  {
   "cell_type": "code",
   "execution_count": 96,
   "id": "8827df4f",
   "metadata": {},
   "outputs": [
    {
     "data": {
      "text/html": [
       "<div>\n",
       "<style scoped>\n",
       "    .dataframe tbody tr th:only-of-type {\n",
       "        vertical-align: middle;\n",
       "    }\n",
       "\n",
       "    .dataframe tbody tr th {\n",
       "        vertical-align: top;\n",
       "    }\n",
       "\n",
       "    .dataframe thead th {\n",
       "        text-align: right;\n",
       "    }\n",
       "</style>\n",
       "<table border=\"1\" class=\"dataframe\">\n",
       "  <thead>\n",
       "    <tr style=\"text-align: right;\">\n",
       "      <th></th>\n",
       "      <th>id</th>\n",
       "      <th>distance</th>\n",
       "      <th>travel_time</th>\n",
       "      <th>price_per_bed</th>\n",
       "      <th>predicted_price_per_bed</th>\n",
       "      <th>bedrooms</th>\n",
       "      <th>bathrooms</th>\n",
       "      <th>numberOfImages</th>\n",
       "      <th>displayAddress</th>\n",
       "      <th>latitude</th>\n",
       "      <th>longitude</th>\n",
       "      <th>propertySubType</th>\n",
       "      <th>listingUpdateReason</th>\n",
       "      <th>listingUpdateDate</th>\n",
       "      <th>priceAmount</th>\n",
       "      <th>priceFrequency</th>\n",
       "      <th>premiumListing</th>\n",
       "      <th>featuredProperty</th>\n",
       "      <th>transactionType</th>\n",
       "      <th>students</th>\n",
       "      <th>displaySize</th>\n",
       "      <th>propertyUrl</th>\n",
       "      <th>firstVisibleDate</th>\n",
       "      <th>addedOrReduced</th>\n",
       "      <th>propertyTypeFullDescription</th>\n",
       "    </tr>\n",
       "  </thead>\n",
       "  <tbody>\n",
       "    <tr>\n",
       "      <th>0</th>\n",
       "      <td>163986251</td>\n",
       "      <td>0</td>\n",
       "      <td>1105</td>\n",
       "      <td>5200.000000</td>\n",
       "      <td>None</td>\n",
       "      <td>1</td>\n",
       "      <td>1</td>\n",
       "      <td>6</td>\n",
       "      <td>Wardour Street, Soho, Soho, London, W1F</td>\n",
       "      <td>51.512776</td>\n",
       "      <td>-0.133739</td>\n",
       "      <td>Flat</td>\n",
       "      <td>new</td>\n",
       "      <td>2025-06-30T19:04:02Z</td>\n",
       "      <td>5200</td>\n",
       "      <td>monthly</td>\n",
       "      <td>0</td>\n",
       "      <td>0</td>\n",
       "      <td>rent</td>\n",
       "      <td>0</td>\n",
       "      <td>38 sq. m.</td>\n",
       "      <td>/properties/163986251#/?channel=RES_LET</td>\n",
       "      <td>2025-06-30T18:58:59Z</td>\n",
       "      <td>Added today</td>\n",
       "      <td>1 bedroom flat</td>\n",
       "    </tr>\n",
       "    <tr>\n",
       "      <th>1</th>\n",
       "      <td>163986410</td>\n",
       "      <td>0</td>\n",
       "      <td>2957</td>\n",
       "      <td>900.000000</td>\n",
       "      <td>None</td>\n",
       "      <td>2</td>\n",
       "      <td>1</td>\n",
       "      <td>10</td>\n",
       "      <td>Torrington Park, London, N12</td>\n",
       "      <td>51.617160</td>\n",
       "      <td>-0.165010</td>\n",
       "      <td>Flat</td>\n",
       "      <td>new</td>\n",
       "      <td>2025-06-30T19:31:03Z</td>\n",
       "      <td>1800</td>\n",
       "      <td>monthly</td>\n",
       "      <td>0</td>\n",
       "      <td>0</td>\n",
       "      <td>rent</td>\n",
       "      <td>0</td>\n",
       "      <td></td>\n",
       "      <td>/properties/163986410#/?channel=RES_LET</td>\n",
       "      <td>2025-06-30T19:25:46Z</td>\n",
       "      <td>Added today</td>\n",
       "      <td>2 bedroom flat</td>\n",
       "    </tr>\n",
       "    <tr>\n",
       "      <th>2</th>\n",
       "      <td>163986269</td>\n",
       "      <td>0</td>\n",
       "      <td>1426</td>\n",
       "      <td>2000.000000</td>\n",
       "      <td>None</td>\n",
       "      <td>1</td>\n",
       "      <td>1</td>\n",
       "      <td>7</td>\n",
       "      <td>Clanricarde Gardens, Notting Hill, London, W2</td>\n",
       "      <td>51.510832</td>\n",
       "      <td>-0.193993</td>\n",
       "      <td>Flat</td>\n",
       "      <td>new</td>\n",
       "      <td>2025-06-30T19:05:02Z</td>\n",
       "      <td>2000</td>\n",
       "      <td>monthly</td>\n",
       "      <td>0</td>\n",
       "      <td>0</td>\n",
       "      <td>rent</td>\n",
       "      <td>0</td>\n",
       "      <td>33 sq. m.</td>\n",
       "      <td>/properties/163986269#/?channel=RES_LET</td>\n",
       "      <td>2025-06-30T18:59:24Z</td>\n",
       "      <td>Added today</td>\n",
       "      <td>1 bedroom flat</td>\n",
       "    </tr>\n",
       "    <tr>\n",
       "      <th>3</th>\n",
       "      <td>163986176</td>\n",
       "      <td>0</td>\n",
       "      <td>1330</td>\n",
       "      <td>2699.000000</td>\n",
       "      <td>None</td>\n",
       "      <td>1</td>\n",
       "      <td>1</td>\n",
       "      <td>14</td>\n",
       "      <td>Westfield Avenue, London, E20</td>\n",
       "      <td>51.541640</td>\n",
       "      <td>-0.007200</td>\n",
       "      <td>Apartment</td>\n",
       "      <td>new</td>\n",
       "      <td>2025-06-30T19:03:22Z</td>\n",
       "      <td>2699</td>\n",
       "      <td>monthly</td>\n",
       "      <td>1</td>\n",
       "      <td>0</td>\n",
       "      <td>rent</td>\n",
       "      <td>0</td>\n",
       "      <td></td>\n",
       "      <td>/properties/163986176#/?channel=RES_LET</td>\n",
       "      <td>2025-06-30T18:57:24Z</td>\n",
       "      <td>Added today</td>\n",
       "      <td>1 bedroom apartment</td>\n",
       "    </tr>\n",
       "    <tr>\n",
       "      <th>4</th>\n",
       "      <td>163986587</td>\n",
       "      <td>0</td>\n",
       "      <td>839</td>\n",
       "      <td>1666.666667</td>\n",
       "      <td>None</td>\n",
       "      <td>3</td>\n",
       "      <td>2</td>\n",
       "      <td>7</td>\n",
       "      <td>Cranfield House, 97-107 Southampton Row, Bloom...</td>\n",
       "      <td>51.520950</td>\n",
       "      <td>-0.123693</td>\n",
       "      <td>Apartment</td>\n",
       "      <td>new</td>\n",
       "      <td>2025-06-30T19:36:03Z</td>\n",
       "      <td>5000</td>\n",
       "      <td>monthly</td>\n",
       "      <td>0</td>\n",
       "      <td>0</td>\n",
       "      <td>rent</td>\n",
       "      <td>1</td>\n",
       "      <td>69 sq. m.</td>\n",
       "      <td>/properties/163986587#/?channel=RES_LET</td>\n",
       "      <td>2025-06-30T19:30:53Z</td>\n",
       "      <td>Added today</td>\n",
       "      <td>3 bedroom apartment</td>\n",
       "    </tr>\n",
       "  </tbody>\n",
       "</table>\n",
       "</div>"
      ],
      "text/plain": [
       "          id  distance  travel_time  price_per_bed predicted_price_per_bed  \\\n",
       "0  163986251         0         1105    5200.000000                    None   \n",
       "1  163986410         0         2957     900.000000                    None   \n",
       "2  163986269         0         1426    2000.000000                    None   \n",
       "3  163986176         0         1330    2699.000000                    None   \n",
       "4  163986587         0          839    1666.666667                    None   \n",
       "\n",
       "   bedrooms  bathrooms  numberOfImages  \\\n",
       "0         1          1               6   \n",
       "1         2          1              10   \n",
       "2         1          1               7   \n",
       "3         1          1              14   \n",
       "4         3          2               7   \n",
       "\n",
       "                                      displayAddress   latitude  longitude  \\\n",
       "0            Wardour Street, Soho, Soho, London, W1F  51.512776  -0.133739   \n",
       "1                       Torrington Park, London, N12  51.617160  -0.165010   \n",
       "2      Clanricarde Gardens, Notting Hill, London, W2  51.510832  -0.193993   \n",
       "3                      Westfield Avenue, London, E20  51.541640  -0.007200   \n",
       "4  Cranfield House, 97-107 Southampton Row, Bloom...  51.520950  -0.123693   \n",
       "\n",
       "  propertySubType listingUpdateReason     listingUpdateDate  priceAmount  \\\n",
       "0            Flat                 new  2025-06-30T19:04:02Z         5200   \n",
       "1            Flat                 new  2025-06-30T19:31:03Z         1800   \n",
       "2            Flat                 new  2025-06-30T19:05:02Z         2000   \n",
       "3       Apartment                 new  2025-06-30T19:03:22Z         2699   \n",
       "4       Apartment                 new  2025-06-30T19:36:03Z         5000   \n",
       "\n",
       "  priceFrequency  premiumListing  featuredProperty transactionType  students  \\\n",
       "0        monthly               0                 0            rent         0   \n",
       "1        monthly               0                 0            rent         0   \n",
       "2        monthly               0                 0            rent         0   \n",
       "3        monthly               1                 0            rent         0   \n",
       "4        monthly               0                 0            rent         1   \n",
       "\n",
       "  displaySize                              propertyUrl      firstVisibleDate  \\\n",
       "0   38 sq. m.  /properties/163986251#/?channel=RES_LET  2025-06-30T18:58:59Z   \n",
       "1              /properties/163986410#/?channel=RES_LET  2025-06-30T19:25:46Z   \n",
       "2   33 sq. m.  /properties/163986269#/?channel=RES_LET  2025-06-30T18:59:24Z   \n",
       "3              /properties/163986176#/?channel=RES_LET  2025-06-30T18:57:24Z   \n",
       "4   69 sq. m.  /properties/163986587#/?channel=RES_LET  2025-06-30T19:30:53Z   \n",
       "\n",
       "  addedOrReduced propertyTypeFullDescription  \n",
       "0    Added today              1 bedroom flat  \n",
       "1    Added today              2 bedroom flat  \n",
       "2    Added today              1 bedroom flat  \n",
       "3    Added today         1 bedroom apartment  \n",
       "4    Added today         3 bedroom apartment  "
      ]
     },
     "execution_count": 96,
     "metadata": {},
     "output_type": "execute_result"
    }
   ],
   "source": [
    "reg_data = properties_data[properties_data[\"priceFrequency\"] == \"monthly\"]\n",
    "reg_data = reg_data[pd.to_numeric(reg_data[\"price_per_bed\"], errors=\"coerce\").between(100, 10000)]\n",
    "reg_data.head()"
   ]
  },
  {
   "cell_type": "markdown",
   "id": "d8db0107",
   "metadata": {},
   "source": [
    "### Make A Scatter Plot of Rent Per Bed Against Travel Time (With a Line of Best Fit)"
   ]
  },
  {
   "cell_type": "code",
   "execution_count": 97,
   "id": "850b9826",
   "metadata": {},
   "outputs": [
    {
     "data": {
      "image/png": "[encoded data removed]",
      "text/plain": [
       "<Figure size 640x480 with 1 Axes>"
      ]
     },
     "metadata": {},
     "output_type": "display_data"
    }
   ],
   "source": [
    "sns.regplot(x='travel_time', y='price_per_bed', data=reg_data)\n",
    "plt.xlabel('Travel Time')\n",
    "plt.ylabel('Price per Bed')\n",
    "plt.title('Price per Bed vs Travel Time with Line of Best Fit')\n",
    "plt.show()"
   ]
  },
  {
   "cell_type": "markdown",
   "id": "39ecf6e6",
   "metadata": {},
   "source": [
    "### Make Predictions of Rent Per Bed to See Which Flats are Underpriced"
   ]
  },
  {
   "cell_type": "markdown",
   "id": "f5dc3dfe",
   "metadata": {},
   "source": [
    "#### Make the Predictions"
   ]
  },
  {
   "cell_type": "code",
   "execution_count": 98,
   "id": "61fcff11",
   "metadata": {},
   "outputs": [],
   "source": [
    "# Select features and target\n",
    "X = reg_data[['travel_time', 'bathrooms']]\n",
    "y = reg_data['price_per_bed']\n",
    "\n",
    "# Create and fit model\n",
    "model = LinearRegression()\n",
    "model.fit(X, y)\n",
    "\n",
    "# To generate predictions \n",
    "predictions = model.predict(X)\n",
    "\n",
    "# Add predictions to dataframe\n",
    "reg_data.loc[:,'predicted_price_per_bed'] = predictions\n",
    "\n",
    "\n",
    "\n"
   ]
  },
  {
   "cell_type": "markdown",
   "id": "51860971",
   "metadata": {},
   "source": [
    "#### Save out the Data With Predictions"
   ]
  },
  {
   "cell_type": "code",
   "execution_count": 99,
   "id": "a1269612",
   "metadata": {},
   "outputs": [],
   "source": [
    "# Save the filled-in dataframe into the pre-existing table, replacing the incomplete with the complete data\n",
    "sqlq.make_table(reg_data, \"properties_data\", engine, if_exists='replace')"
   ]
  }
 ],
 "metadata": {
  "kernelspec": {
   "display_name": "venv-rental",
   "language": "python",
   "name": "python3"
  },
  "language_info": {
   "codemirror_mode": {
    "name": "ipython",
    "version": 3
   },
   "file_extension": ".py",
   "mimetype": "text/x-python",
   "name": "python",
   "nbconvert_exporter": "python",
   "pygments_lexer": "ipython3",
   "version": "3.11.13"
  }
 },
 "nbformat": 4,
 "nbformat_minor": 5
}
